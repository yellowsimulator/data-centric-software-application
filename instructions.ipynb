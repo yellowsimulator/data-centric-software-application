{
 "cells": [
  {
   "cell_type": "markdown",
   "id": "eb320256",
   "metadata": {},
   "source": [
    "# Instructions\n",
    "\n",
    "1 - clone this repository:\n",
    "[course materials](https://github.com/yellowsimulator/data-centric-software-application.git)\n",
    "\n",
    "2 - create a virtual environment in your working directory\n",
    "     python3 -m venv my-venv\n",
    "\n",
    "3 - activate your virtual environments\n",
    "    source/my-venv/bin/activate (for mac/linux users)\n",
    "    Script/my-venv/activate  (for windows users)\n",
    "    \n",
    "    \n",
    "\n",
    "4 - install all requirement by running \n",
    "    pip install -r requirements.txt\n",
    "    pip3 install -r requirements.txt"
   ]
  },
  {
   "cell_type": "code",
   "execution_count": null,
   "id": "ebb926cb",
   "metadata": {},
   "outputs": [],
   "source": []
  }
 ],
 "metadata": {
  "kernelspec": {
   "display_name": "Python 3 (ipykernel)",
   "language": "python",
   "name": "python3"
  },
  "language_info": {
   "codemirror_mode": {
    "name": "ipython",
    "version": 3
   },
   "file_extension": ".py",
   "mimetype": "text/x-python",
   "name": "python",
   "nbconvert_exporter": "python",
   "pygments_lexer": "ipython3",
   "version": "3.8.5"
  }
 },
 "nbformat": 4,
 "nbformat_minor": 5
}
