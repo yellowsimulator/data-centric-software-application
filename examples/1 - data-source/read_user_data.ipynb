{
 "cells": [
  {
   "cell_type": "markdown",
   "id": "6e2a1222",
   "metadata": {},
   "source": [
    "# Example 2\n",
    "\n",
    "You are starting a new music streaming company because you are not satisfied with the existing one (spotify, apple music, ...).\n",
    "\n",
    "Currentely the artists data and your users data are stored in json files. Your are planning to migrate your data to the cloud. To this end, your want to:\n",
    "\n",
    "1 - move all users and artist data currentely in json file into csv files respectively.\n",
    "2 - move the csv files in azure datalake as staging storage before you can model the data and save it into a SQL       database.\n",
    "\n",
    "In this example you are given a series of json files and your assignement is to create a single csv file.\n",
    "The folder user_data contains a several json files. Each json file contains several user records."
   ]
  },
  {
   "cell_type": "markdown",
   "id": "3f4c4760",
   "metadata": {},
   "source": [
    "# Import librairies"
   ]
  },
  {
   "cell_type": "code",
   "execution_count": 1,
   "id": "fd983cfe",
   "metadata": {},
   "outputs": [],
   "source": [
    "import json\n",
    "import pandas as pd\n",
    "from glob import glob\n",
    "from pandas import json_normalize"
   ]
  },
  {
   "cell_type": "markdown",
   "id": "859f828c",
   "metadata": {},
   "source": [
    "# Read all json files"
   ]
  },
  {
   "cell_type": "code",
   "execution_count": null,
   "id": "98a9d669",
   "metadata": {},
   "outputs": [],
   "source": []
  },
  {
   "cell_type": "markdown",
   "id": "c4f7ec0a",
   "metadata": {},
   "source": [
    "# Save one json file content to a pandas data frame"
   ]
  },
  {
   "cell_type": "code",
   "execution_count": null,
   "id": "dc442ca4",
   "metadata": {},
   "outputs": [],
   "source": []
  },
  {
   "cell_type": "code",
   "execution_count": null,
   "id": "95affdaf",
   "metadata": {},
   "outputs": [],
   "source": []
  },
  {
   "cell_type": "code",
   "execution_count": null,
   "id": "7eadcb7a",
   "metadata": {},
   "outputs": [],
   "source": []
  },
  {
   "cell_type": "markdown",
   "id": "0b7f64c3",
   "metadata": {},
   "source": [
    "# Save all json files content to a pandas dataframe"
   ]
  },
  {
   "cell_type": "code",
   "execution_count": null,
   "id": "f79557ee",
   "metadata": {},
   "outputs": [],
   "source": []
  },
  {
   "cell_type": "markdown",
   "id": "4d7ad130",
   "metadata": {},
   "source": [
    "# Save the dataframe into a csv file"
   ]
  },
  {
   "cell_type": "code",
   "execution_count": null,
   "id": "aa60414c",
   "metadata": {},
   "outputs": [],
   "source": []
  },
  {
   "cell_type": "markdown",
   "id": "56f2b1e0",
   "metadata": {},
   "source": [
    "# Read the csv file"
   ]
  },
  {
   "cell_type": "code",
   "execution_count": null,
   "id": "804fee47",
   "metadata": {},
   "outputs": [],
   "source": []
  }
 ],
 "metadata": {
  "kernelspec": {
   "display_name": "Python 3 (ipykernel)",
   "language": "python",
   "name": "python3"
  },
  "language_info": {
   "codemirror_mode": {
    "name": "ipython",
    "version": 3
   },
   "file_extension": ".py",
   "mimetype": "text/x-python",
   "name": "python",
   "nbconvert_exporter": "python",
   "pygments_lexer": "ipython3",
   "version": "3.8.5"
  }
 },
 "nbformat": 4,
 "nbformat_minor": 5
}
