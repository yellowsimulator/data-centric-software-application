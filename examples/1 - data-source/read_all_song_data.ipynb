{
 "cells": [
  {
   "cell_type": "markdown",
   "id": "160fd489",
   "metadata": {},
   "source": [
    "# Example 1\n",
    "\n",
    "You are starting a new music streaming company because you are not satisfied with the existing one (spotify, apple music, ...).\n",
    "\n",
    "Currentely the artists data and your users data are stored in json files. Your are planning to migrate your data to the cloud. To this end, your want to:\n",
    "\n",
    "1 - move all users and artist data currentely in json file into csv files respectively.\n",
    "2 - move the csv files in azure datalake as staging storage before you can model the data and save it into a SQL       database.\n",
    "\n",
    "In this example you are given a series of json files and your assignement is to create a single csv file.\n",
    "The folder song_data contains a several json files. Each json file contains a single record for an artist."
   ]
  },
  {
   "cell_type": "markdown",
   "id": "89504187",
   "metadata": {},
   "source": [
    "# Import python libraries"
   ]
  },
  {
   "cell_type": "code",
   "execution_count": 12,
   "id": "56cf87d7",
   "metadata": {},
   "outputs": [],
   "source": [
    "import json\n",
    "import pandas as pd\n",
    "from glob import glob\n",
    "from pandas import json_normalize"
   ]
  },
  {
   "cell_type": "markdown",
   "id": "11a6abe2",
   "metadata": {},
   "source": [
    "# Read all json files"
   ]
  },
  {
   "cell_type": "code",
   "execution_count": null,
   "id": "c4b85e7a",
   "metadata": {},
   "outputs": [],
   "source": []
  },
  {
   "cell_type": "markdown",
   "id": "c81245ad",
   "metadata": {},
   "source": [
    "# Save a json record to a pandas data frame"
   ]
  },
  {
   "cell_type": "code",
   "execution_count": null,
   "id": "fbfd0129",
   "metadata": {},
   "outputs": [],
   "source": []
  },
  {
   "cell_type": "code",
   "execution_count": null,
   "id": "0d89c863",
   "metadata": {},
   "outputs": [],
   "source": []
  },
  {
   "cell_type": "code",
   "execution_count": null,
   "id": "9a204a94",
   "metadata": {},
   "outputs": [],
   "source": []
  },
  {
   "cell_type": "markdown",
   "id": "1b6a3c62",
   "metadata": {},
   "source": [
    "# Save all json records to a pandas data frame"
   ]
  },
  {
   "cell_type": "code",
   "execution_count": null,
   "id": "056f1f2a",
   "metadata": {},
   "outputs": [],
   "source": []
  },
  {
   "cell_type": "markdown",
   "id": "51b81e72",
   "metadata": {},
   "source": [
    "# Save pandas dataframe as a csv file"
   ]
  },
  {
   "cell_type": "code",
   "execution_count": null,
   "id": "45e7a8f4",
   "metadata": {},
   "outputs": [],
   "source": []
  },
  {
   "cell_type": "markdown",
   "id": "e467a200",
   "metadata": {},
   "source": [
    "# Read song data csv file"
   ]
  },
  {
   "cell_type": "code",
   "execution_count": null,
   "id": "49fb885d",
   "metadata": {},
   "outputs": [],
   "source": []
  },
  {
   "cell_type": "code",
   "execution_count": null,
   "id": "723ca762",
   "metadata": {},
   "outputs": [],
   "source": []
  }
 ],
 "metadata": {
  "kernelspec": {
   "display_name": "Python 3 (ipykernel)",
   "language": "python",
   "name": "python3"
  },
  "language_info": {
   "codemirror_mode": {
    "name": "ipython",
    "version": 3
   },
   "file_extension": ".py",
   "mimetype": "text/x-python",
   "name": "python",
   "nbconvert_exporter": "python",
   "pygments_lexer": "ipython3",
   "version": "3.8.5"
  }
 },
 "nbformat": 4,
 "nbformat_minor": 5
}
