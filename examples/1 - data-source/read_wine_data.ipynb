{
 "cells": [
  {
   "cell_type": "markdown",
   "id": "67f7fc9a",
   "metadata": {},
   "source": [
    "# Example 3\n",
    "\n",
    "As a new startup, you are working for a wine company to predict the type (red or white) and the quality of the wine based on some attributes. Currentely, your red and white wine data are in two separate csv files and you want to merge them before saving them into the cloud (posrgres database)\n"
   ]
  },
  {
   "cell_type": "markdown",
   "id": "6f3167f4",
   "metadata": {},
   "source": [
    "# Import libraries"
   ]
  },
  {
   "cell_type": "code",
   "execution_count": 4,
   "id": "2aa0cac3",
   "metadata": {},
   "outputs": [],
   "source": [
    "import pandas as pd\n",
    "import matplotlib.pyplot as plt\n",
    "plt.rcParams['figure.figsize'] = 12, 5"
   ]
  },
  {
   "cell_type": "markdown",
   "id": "864eafb7",
   "metadata": {},
   "source": [
    "# Read files"
   ]
  },
  {
   "cell_type": "code",
   "execution_count": 5,
   "id": "7d5fb089",
   "metadata": {},
   "outputs": [],
   "source": [
    "red_wine = pd.read_csv('../wine_data/red_wine.csv', sep=';')\n",
    "white_wine = pd.read_csv('../wine_data/white_wine.csv', sep=';')"
   ]
  },
  {
   "cell_type": "markdown",
   "id": "4f3f74bf",
   "metadata": {},
   "source": [
    "# Explore the data"
   ]
  },
  {
   "cell_type": "code",
   "execution_count": null,
   "id": "9452be72",
   "metadata": {},
   "outputs": [],
   "source": []
  },
  {
   "cell_type": "code",
   "execution_count": null,
   "id": "db041ccb",
   "metadata": {},
   "outputs": [],
   "source": []
  },
  {
   "cell_type": "markdown",
   "id": "4e089eec",
   "metadata": {},
   "source": [
    "# Plot some attributes"
   ]
  },
  {
   "cell_type": "code",
   "execution_count": 2,
   "id": "e65f54e7",
   "metadata": {},
   "outputs": [],
   "source": [
    "#y = ''\n",
    "#df.plot(y=y, use_index=True)"
   ]
  },
  {
   "cell_type": "markdown",
   "id": "045116ae",
   "metadata": {},
   "source": [
    "# Add new columns 'wine_name' to each dataframe"
   ]
  },
  {
   "cell_type": "code",
   "execution_count": null,
   "id": "16f4ac40",
   "metadata": {},
   "outputs": [],
   "source": []
  },
  {
   "cell_type": "code",
   "execution_count": null,
   "id": "e6f0de87",
   "metadata": {},
   "outputs": [],
   "source": []
  },
  {
   "cell_type": "code",
   "execution_count": null,
   "id": "165bb112",
   "metadata": {},
   "outputs": [],
   "source": []
  },
  {
   "cell_type": "code",
   "execution_count": null,
   "id": "5df8493a",
   "metadata": {},
   "outputs": [],
   "source": []
  },
  {
   "cell_type": "markdown",
   "id": "b5bb5fc7",
   "metadata": {},
   "source": [
    "# Save data to csv"
   ]
  },
  {
   "cell_type": "code",
   "execution_count": null,
   "id": "6d91bedf",
   "metadata": {},
   "outputs": [],
   "source": []
  },
  {
   "cell_type": "markdown",
   "id": "abad0998",
   "metadata": {},
   "source": [
    "# Read the data"
   ]
  },
  {
   "cell_type": "code",
   "execution_count": null,
   "id": "d7e3452d",
   "metadata": {},
   "outputs": [],
   "source": []
  },
  {
   "cell_type": "code",
   "execution_count": null,
   "id": "bf115dd4",
   "metadata": {},
   "outputs": [],
   "source": []
  }
 ],
 "metadata": {
  "kernelspec": {
   "display_name": "Python 3 (ipykernel)",
   "language": "python",
   "name": "python3"
  },
  "language_info": {
   "codemirror_mode": {
    "name": "ipython",
    "version": 3
   },
   "file_extension": ".py",
   "mimetype": "text/x-python",
   "name": "python",
   "nbconvert_exporter": "python",
   "pygments_lexer": "ipython3",
   "version": "3.8.5"
  }
 },
 "nbformat": 4,
 "nbformat_minor": 5
}
