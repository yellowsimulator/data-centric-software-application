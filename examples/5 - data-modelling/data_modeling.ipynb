{
 "cells": [
  {
   "cell_type": "markdown",
   "id": "4cdbe548",
   "metadata": {},
   "source": [
    "# Data modeling example\n",
    "\n",
    "I suggest you to look at the example from this repository\n",
    "\n",
    "[blue_text](url_here)"
   ]
  }
 ],
 "metadata": {
  "kernelspec": {
   "display_name": "Python 3 (ipykernel)",
   "language": "python",
   "name": "python3"
  },
  "language_info": {
   "codemirror_mode": {
    "name": "ipython",
    "version": 3
   },
   "file_extension": ".py",
   "mimetype": "text/x-python",
   "name": "python",
   "nbconvert_exporter": "python",
   "pygments_lexer": "ipython3",
   "version": "3.8.5"
  }
 },
 "nbformat": 4,
 "nbformat_minor": 5
}
