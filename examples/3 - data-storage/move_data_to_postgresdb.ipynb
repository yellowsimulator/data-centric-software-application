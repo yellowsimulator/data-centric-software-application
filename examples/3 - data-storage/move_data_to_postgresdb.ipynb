{
 "cells": [
  {
   "cell_type": "markdown",
   "id": "0299be30",
   "metadata": {},
   "source": [
    "# Example 4\n",
    "\n",
    "In this eample, your task is to:\n",
    "\n",
    "0 - create a container called cv, a folder called files in azure datalake and upload all csv files in the folder\n",
    "\n",
    "1 - create a database called music_database\n",
    "\n",
    "2 - create a table called songs\n",
    "\n",
    "3 - insert all the records from song_data.csv into table songs\n",
    "\n",
    "4 - create a table called wine\n",
    "\n",
    "5 - insert all records from wine.csv into table wine\n",
    "\n",
    "6 - create a table called users\n",
    "\n",
    "7 - insert all records from users_data.csv into table users\n",
    "\n",
    "For help check out the files database_operations.py and sql_queries.py, azure_api.py. You might need to modify the code."
   ]
  },
  {
   "cell_type": "code",
   "execution_count": null,
   "id": "bdb91547",
   "metadata": {},
   "outputs": [],
   "source": []
  },
  {
   "cell_type": "markdown",
   "id": "486ddc6f",
   "metadata": {},
   "source": [
    "# Import all python libraries"
   ]
  },
  {
   "cell_type": "code",
   "execution_count": null,
   "id": "abf51c94",
   "metadata": {},
   "outputs": [],
   "source": []
  }
 ],
 "metadata": {
  "kernelspec": {
   "display_name": "Python 3 (ipykernel)",
   "language": "python",
   "name": "python3"
  },
  "language_info": {
   "codemirror_mode": {
    "name": "ipython",
    "version": 3
   },
   "file_extension": ".py",
   "mimetype": "text/x-python",
   "name": "python",
   "nbconvert_exporter": "python",
   "pygments_lexer": "ipython3",
   "version": "3.8.5"
  }
 },
 "nbformat": 4,
 "nbformat_minor": 5
}
