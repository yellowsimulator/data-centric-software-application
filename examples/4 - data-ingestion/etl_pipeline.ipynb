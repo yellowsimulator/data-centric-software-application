{
 "cells": [
  {
   "cell_type": "markdown",
   "id": "a577be2f",
   "metadata": {},
   "source": [
    "# Example 6\n",
    "\n",
    "In this example your assignment is to create an ETL pipeline with apache airflow:\n",
    "\n",
    "Sources of data:\n",
    "\n",
    "1 - images folder\n",
    "\n",
    "2 - all csv files\n",
    "\n",
    "Destination:\n",
    "\n",
    "1 - Azure datalake\n",
    "\n",
    "2 - postgresdb"
   ]
  },
  {
   "cell_type": "code",
   "execution_count": null,
   "id": "1e2021e4",
   "metadata": {},
   "outputs": [],
   "source": []
  }
 ],
 "metadata": {
  "kernelspec": {
   "display_name": "Python 3 (ipykernel)",
   "language": "python",
   "name": "python3"
  },
  "language_info": {
   "codemirror_mode": {
    "name": "ipython",
    "version": 3
   },
   "file_extension": ".py",
   "mimetype": "text/x-python",
   "name": "python",
   "nbconvert_exporter": "python",
   "pygments_lexer": "ipython3",
   "version": "3.8.5"
  }
 },
 "nbformat": 4,
 "nbformat_minor": 5
}
